{
 "cells": [
  {
   "cell_type": "code",
   "execution_count": 1,
   "metadata": {},
   "outputs": [
    {
     "name": "stdout",
     "output_type": "stream",
     "text": [
      "    Year  newYear     Ratios\n",
      "0   1870         0  30.04064\n",
      "1   1875         5  25.44332\n",
      "2   1880        10  22.84131\n",
      "3   1885        15  17.03670\n",
      "4   1890        20  14.30141\n",
      "5   1895        25  13.02516\n",
      "6   1900        30  14.30075\n",
      "7   1905        35  15.91014\n",
      "8   1910        40  16.95668\n",
      "9   1915        45  20.63757\n",
      "10  1920        50  29.80620\n",
      "11  1925        55  28.28355\n",
      "12  1930        60  27.02677\n",
      "13  1935        65  26.60637\n",
      "14  1940        70  46.76110\n",
      "15  1945        75  44.53684\n",
      "16  1950        80  46.75366\n",
      "17  1955        85  48.72198\n",
      "18  1960        90  52.85789\n",
      "19  1965        95  58.08843\n",
      "20  1970       100  63.89221\n",
      "21  1975       105  66.25009\n",
      "22  1980       110  69.34769\n",
      "23  1985       115  74.98585\n",
      "24  1990       120  80.13951\n",
      "25  1995       125  76.55644\n",
      "26  2000       130  75.94535\n",
      "27  2005       135  80.10808\n",
      "28  2010       140  84.07307\n"
     ]
    }
   ],
   "source": [
    "# Importing the libraries\n",
    "import numpy as np\n",
    "import matplotlib.pyplot as plt\n",
    "import pandas as pd\n",
    "\n",
    "# Importing the dataset\n",
    "datas = pd.read_excel('/Users/Rup/Downloads/GenderRatios-3.xlsx',sheet_name='Asia Pacific')\n",
    "print(datas)"
   ]
  },
  {
   "cell_type": "code",
   "execution_count": 2,
   "metadata": {},
   "outputs": [],
   "source": [
    "X = datas.iloc[:, 1:2].values\n",
    "y = datas.iloc[:, 2].values\n",
    "x1 = X.reshape(-1, 1)\n",
    "#print(X)\n",
    "#print(x1)\n",
    "#print(y)"
   ]
  },
  {
   "cell_type": "code",
   "execution_count": 3,
   "metadata": {},
   "outputs": [
    {
     "name": "stdout",
     "output_type": "stream",
     "text": [
      "Slope of the line is [0.5367111]\n",
      "Intercept value is 6.265904275862063\n",
      "[ 6.26590428  8.94945978 11.63301529 14.3165708  17.00012631 19.68368181\n",
      " 22.36723732 25.05079283 27.73434833 30.41790384 33.10145935 35.78501486\n",
      " 38.46857036 41.15212587 43.83568138 46.51923689 49.20279239 51.8863479\n",
      " 54.56990341 57.25345892 59.93701442 62.62056993 65.30412544 67.98768095\n",
      " 70.67123645 73.35479196 76.03834747 78.72190298 81.40545848]\n",
      "\n",
      "Equation of the linear model is y =  [0.5367111] x + 6.265904275862063\n",
      "                            OLS Regression Results                            \n",
      "==============================================================================\n",
      "Dep. Variable:                      y   R-squared:                       0.878\n",
      "Model:                            OLS   Adj. R-squared:                  0.874\n",
      "Method:                 Least Squares   F-statistic:                     194.7\n",
      "Date:                Tue, 15 Feb 2022   Prob (F-statistic):           7.31e-14\n",
      "Time:                        20:01:32   Log-Likelihood:                -102.73\n",
      "No. Observations:                  29   AIC:                             209.5\n",
      "Df Residuals:                      27   BIC:                             212.2\n",
      "Df Model:                           1                                         \n",
      "Covariance Type:            nonrobust                                         \n",
      "==============================================================================\n",
      "                 coef    std err          t      P>|t|      [0.025      0.975]\n",
      "------------------------------------------------------------------------------\n",
      "const          6.2659      3.137      1.998      0.056      -0.170      12.702\n",
      "x1             0.5367      0.038     13.954      0.000       0.458       0.616\n",
      "==============================================================================\n",
      "Omnibus:                        4.587   Durbin-Watson:                   0.349\n",
      "Prob(Omnibus):                  0.101   Jarque-Bera (JB):                2.953\n",
      "Skew:                           0.703   Prob(JB):                        0.228\n",
      "Kurtosis:                       3.683   Cond. No.                         159.\n",
      "==============================================================================\n",
      "\n",
      "Warnings:\n",
      "[1] Standard Errors assume that the covariance matrix of the errors is correctly specified.\n"
     ]
    }
   ],
   "source": [
    "# Fitting Linear Regression to the dataset...First try to fit the data with a linear model.\n",
    "from sklearn.linear_model import LinearRegression\n",
    "from sklearn.metrics import mean_squared_error, r2_score\n",
    "import statsmodels.api as sm\n",
    "\n",
    "# Model initialization\n",
    "lin_regression_model = LinearRegression()\n",
    "# Fit the data(train the model)\n",
    "lin_regression_model.fit(x1, y)\n",
    "print('Slope of the line is', lin_regression_model.coef_)\n",
    "print('Intercept value is', lin_regression_model.intercept_)\n",
    "# Predict\n",
    "y_predicted = lin_regression_model.predict(x1)\n",
    "print(y_predicted)\n",
    "\n",
    "print(\"\\nEquation of the linear model is y = \" ,lin_regression_model.coef_,\"x\",\"+\", lin_regression_model.intercept_)\n",
    "#\n",
    "X2 = sm.add_constant(X)\n",
    "est = sm.OLS(y, X2)\n",
    "est2 = est.fit()\n",
    "print(est2.summary())\n"
   ]
  },
  {
   "cell_type": "code",
   "execution_count": 4,
   "metadata": {},
   "outputs": [
    {
     "name": "stdout",
     "output_type": "stream",
     "text": [
      "MSE of Linear model 69.90348963316457\n",
      "R2 score of Linear model:  0.878218275055573\n",
      "\n",
      "The performance of the linear model is not satisfactory. Let’s try Polynomial Regression with degree 2\n"
     ]
    }
   ],
   "source": [
    "#Calculate the performance of the model in terms of mean square error, root mean square error and r2 score.\n",
    "# model evaluation\n",
    "mse = mean_squared_error(y, y_predicted)\n",
    "  \n",
    "rmse = np.sqrt(mean_squared_error(y, y_predicted))\n",
    "r2 = r2_score(y, y_predicted)\n",
    "  \n",
    "# printing values\n",
    "  \n",
    "print('MSE of Linear model', mse)\n",
    "  \n",
    "print('R2 score of Linear model: ', r2)\n",
    "\n",
    "print(\"\\nThe performance of the linear model is not satisfactory. Let’s try Polynomial Regression with degree 2\")"
   ]
  },
  {
   "cell_type": "code",
   "execution_count": 5,
   "metadata": {},
   "outputs": [
    {
     "name": "stdout",
     "output_type": "stream",
     "text": [
      "Coefficients of x are [0.04327024 0.00352458]\n",
      "Intercept is 17.368323586206905\n",
      "This is the desired equation  0.003524577558839631 x^2 +  0.043270243240284105 x +  17.368323586206905\n"
     ]
    },
    {
     "data": {
      "text/html": [
       "<table class=\"simpletable\">\n",
       "<caption>OLS Regression Results</caption>\n",
       "<tr>\n",
       "  <th>Dep. Variable:</th>            <td>y</td>        <th>  R-squared:         </th> <td>   0.969</td>\n",
       "</tr>\n",
       "<tr>\n",
       "  <th>Model:</th>                   <td>OLS</td>       <th>  Adj. R-squared:    </th> <td>   0.966</td>\n",
       "</tr>\n",
       "<tr>\n",
       "  <th>Method:</th>             <td>Least Squares</td>  <th>  F-statistic:       </th> <td>   418.8</td>\n",
       "</tr>\n",
       "<tr>\n",
       "  <th>Date:</th>             <td>Tue, 15 Feb 2022</td> <th>  Prob (F-statistic):</th> <td>4.75e-21</td>\n",
       "</tr>\n",
       "<tr>\n",
       "  <th>Time:</th>                 <td>20:01:32</td>     <th>  Log-Likelihood:    </th> <td> -104.31</td>\n",
       "</tr>\n",
       "<tr>\n",
       "  <th>No. Observations:</th>      <td>    29</td>      <th>  AIC:               </th> <td>   212.6</td>\n",
       "</tr>\n",
       "<tr>\n",
       "  <th>Df Residuals:</th>          <td>    27</td>      <th>  BIC:               </th> <td>   215.4</td>\n",
       "</tr>\n",
       "<tr>\n",
       "  <th>Df Model:</th>              <td>     2</td>      <th>                     </th>     <td> </td>   \n",
       "</tr>\n",
       "<tr>\n",
       "  <th>Covariance Type:</th>      <td>nonrobust</td>    <th>                     </th>     <td> </td>   \n",
       "</tr>\n",
       "</table>\n",
       "<table class=\"simpletable\">\n",
       "<tr>\n",
       "   <td></td>     <th>coef</th>     <th>std err</th>      <th>t</th>      <th>P>|t|</th>  <th>[0.025</th>    <th>0.975]</th>  \n",
       "</tr>\n",
       "<tr>\n",
       "  <th>x1</th> <td>    0.5306</td> <td>    0.083</td> <td>    6.362</td> <td> 0.000</td> <td>    0.359</td> <td>    0.702</td>\n",
       "</tr>\n",
       "<tr>\n",
       "  <th>x2</th> <td>    0.0007</td> <td>    0.001</td> <td>    0.893</td> <td> 0.380</td> <td>   -0.001</td> <td>    0.002</td>\n",
       "</tr>\n",
       "</table>\n",
       "<table class=\"simpletable\">\n",
       "<tr>\n",
       "  <th>Omnibus:</th>       <td>18.019</td> <th>  Durbin-Watson:     </th> <td>   0.313</td>\n",
       "</tr>\n",
       "<tr>\n",
       "  <th>Prob(Omnibus):</th> <td> 0.000</td> <th>  Jarque-Bera (JB):  </th> <td>  21.578</td>\n",
       "</tr>\n",
       "<tr>\n",
       "  <th>Skew:</th>          <td> 1.620</td> <th>  Prob(JB):          </th> <td>2.06e-05</td>\n",
       "</tr>\n",
       "<tr>\n",
       "  <th>Kurtosis:</th>      <td> 5.712</td> <th>  Cond. No.          </th> <td>    442.</td>\n",
       "</tr>\n",
       "</table><br/><br/>Warnings:<br/>[1] Standard Errors assume that the covariance matrix of the errors is correctly specified."
      ],
      "text/plain": [
       "<class 'statsmodels.iolib.summary.Summary'>\n",
       "\"\"\"\n",
       "                            OLS Regression Results                            \n",
       "==============================================================================\n",
       "Dep. Variable:                      y   R-squared:                       0.969\n",
       "Model:                            OLS   Adj. R-squared:                  0.966\n",
       "Method:                 Least Squares   F-statistic:                     418.8\n",
       "Date:                Tue, 15 Feb 2022   Prob (F-statistic):           4.75e-21\n",
       "Time:                        20:01:32   Log-Likelihood:                -104.31\n",
       "No. Observations:                  29   AIC:                             212.6\n",
       "Df Residuals:                      27   BIC:                             215.4\n",
       "Df Model:                           2                                         \n",
       "Covariance Type:            nonrobust                                         \n",
       "==============================================================================\n",
       "                 coef    std err          t      P>|t|      [0.025      0.975]\n",
       "------------------------------------------------------------------------------\n",
       "x1             0.5306      0.083      6.362      0.000       0.359       0.702\n",
       "x2             0.0007      0.001      0.893      0.380      -0.001       0.002\n",
       "==============================================================================\n",
       "Omnibus:                       18.019   Durbin-Watson:                   0.313\n",
       "Prob(Omnibus):                  0.000   Jarque-Bera (JB):               21.578\n",
       "Skew:                           1.620   Prob(JB):                     2.06e-05\n",
       "Kurtosis:                       5.712   Cond. No.                         442.\n",
       "==============================================================================\n",
       "\n",
       "Warnings:\n",
       "[1] Standard Errors assume that the covariance matrix of the errors is correctly specified.\n",
       "\"\"\""
      ]
     },
     "execution_count": 5,
     "metadata": {},
     "output_type": "execute_result"
    }
   ],
   "source": [
    "# Fitting Polynomial Regression degree 2 to the dataset\n",
    "from sklearn.preprocessing import PolynomialFeatures\n",
    "poly_features = PolynomialFeatures(degree = 2, include_bias = False)\n",
    "x_poly = poly_features.fit_transform(x1)\n",
    "lin_reg = LinearRegression()\n",
    "lin_reg.fit(x_poly, y)\n",
    "print('Coefficients of x are', lin_reg.coef_)\n",
    "print('Intercept is', lin_reg.intercept_)\n",
    "print(\"This is the desired equation \",lin_reg.coef_[1],\"x^2 + \",lin_reg.coef_[0],\"x + \",lin_reg.intercept_)\n",
    "y_deg2 = lin_reg.predict(x_poly)\n",
    "\n",
    "model = sm.OLS(y, x_poly).fit()\n",
    "ypred = model.predict(x_poly)\n",
    "model.summary()\n"
   ]
  },
  {
   "cell_type": "code",
   "execution_count": null,
   "metadata": {},
   "outputs": [],
   "source": []
  },
  {
   "cell_type": "code",
   "execution_count": 6,
   "metadata": {},
   "outputs": [
    {
     "data": {
      "image/png": "[encoded data removed]",
      "text/plain": [
       "<Figure size 432x288 with 1 Axes>"
      ]
     },
     "metadata": {
      "needs_background": "light"
     },
     "output_type": "display_data"
    }
   ],
   "source": [
    "# Visualising the Linear Regression results\n",
    "plt.scatter(x1, y, color = 'blue')\n",
    "\n",
    "plt.plot(x1, y_predicted, color = 'red')\n",
    "plt.title('Linear Regression')\n",
    "plt.xlabel('newYear')\n",
    "plt.ylabel('Ratios')\n",
    "\n",
    "plt.show()\n"
   ]
  },
  {
   "cell_type": "code",
   "execution_count": 7,
   "metadata": {},
   "outputs": [
    {
     "data": {
      "image/png": "[encoded data removed]",
      "text/plain": [
       "<Figure size 432x288 with 1 Axes>"
      ]
     },
     "metadata": {
      "needs_background": "light"
     },
     "output_type": "display_data"
    }
   ],
   "source": [
    "# Visualising the Polynomial Regression results\n",
    "plt.scatter(x1, y, color = 'blue')\n",
    "\n",
    "plt.plot(x1, y_deg2, color = 'red')\n",
    "plt.title('Polynomial Regression degree 2')\n",
    "plt.xlabel('newYear')\n",
    "plt.ylabel('Ratios')\n",
    "\n",
    "plt.show()\n",
    "\n",
    "\n"
   ]
  },
  {
   "cell_type": "code",
   "execution_count": 8,
   "metadata": {},
   "outputs": [
    {
     "name": "stdout",
     "output_type": "stream",
     "text": [
      "MSE of Polyregression model 39.576702721861004\n",
      "R2 score of Linear model:  0.9310518094250563\n"
     ]
    }
   ],
   "source": [
    "#Calculate the performance of the model obtained by Polynomial Regression.\n",
    "y_deg2 = lin_reg.predict(x_poly)\n",
    "# model evaluation\n",
    "mse_deg2 = mean_squared_error(y, y_deg2)\n",
    "\n",
    "r2_deg2 = r2_score(y, y_deg2)\n",
    "\n",
    "# printing values\n",
    "\n",
    "print('MSE of Polyregression model', mse_deg2)\n",
    "\n",
    "print('R2 score of Linear model: ', r2_deg2)\n",
    "\n"
   ]
  },
  {
   "cell_type": "code",
   "execution_count": 9,
   "metadata": {},
   "outputs": [
    {
     "name": "stdout",
     "output_type": "stream",
     "text": [
      "The performance of polynomial regression model is far better than linear regression model for the given quadratic equation.\n"
     ]
    }
   ],
   "source": [
    "print(\"The performance of polynomial regression model is far better than linear regression model for the given quadratic equation.\")"
   ]
  },
  {
   "cell_type": "code",
   "execution_count": 10,
   "metadata": {},
   "outputs": [
    {
     "name": "stdout",
     "output_type": "stream",
     "text": [
      "Coefficients of x are [-1.06264375e+00  2.36234040e-02 -9.57086973e-05]\n",
      "Intercept is 29.126137053658788\n"
     ]
    },
    {
     "data": {
      "text/html": [
       "<table class=\"simpletable\">\n",
       "<caption>OLS Regression Results</caption>\n",
       "<tr>\n",
       "  <th>Dep. Variable:</th>            <td>y</td>        <th>  R-squared:         </th> <td>   0.969</td>\n",
       "</tr>\n",
       "<tr>\n",
       "  <th>Model:</th>                   <td>OLS</td>       <th>  Adj. R-squared:    </th> <td>   0.965</td>\n",
       "</tr>\n",
       "<tr>\n",
       "  <th>Method:</th>             <td>Least Squares</td>  <th>  F-statistic:       </th> <td>   270.0</td>\n",
       "</tr>\n",
       "<tr>\n",
       "  <th>Date:</th>             <td>Tue, 15 Feb 2022</td> <th>  Prob (F-statistic):</th> <td>1.05e-19</td>\n",
       "</tr>\n",
       "<tr>\n",
       "  <th>Time:</th>                 <td>20:01:32</td>     <th>  Log-Likelihood:    </th> <td> -104.25</td>\n",
       "</tr>\n",
       "<tr>\n",
       "  <th>No. Observations:</th>      <td>    29</td>      <th>  AIC:               </th> <td>   214.5</td>\n",
       "</tr>\n",
       "<tr>\n",
       "  <th>Df Residuals:</th>          <td>    26</td>      <th>  BIC:               </th> <td>   218.6</td>\n",
       "</tr>\n",
       "<tr>\n",
       "  <th>Df Model:</th>              <td>     3</td>      <th>                     </th>     <td> </td>   \n",
       "</tr>\n",
       "<tr>\n",
       "  <th>Covariance Type:</th>      <td>nonrobust</td>    <th>                     </th>     <td> </td>   \n",
       "</tr>\n",
       "</table>\n",
       "<table class=\"simpletable\">\n",
       "<tr>\n",
       "   <td></td>     <th>coef</th>     <th>std err</th>      <th>t</th>      <th>P>|t|</th>  <th>[0.025</th>    <th>0.975]</th>  \n",
       "</tr>\n",
       "<tr>\n",
       "  <th>x1</th> <td>    0.4662</td> <td>    0.212</td> <td>    2.197</td> <td> 0.037</td> <td>    0.030</td> <td>    0.903</td>\n",
       "</tr>\n",
       "<tr>\n",
       "  <th>x2</th> <td>    0.0022</td> <td>    0.005</td> <td>    0.472</td> <td> 0.641</td> <td>   -0.007</td> <td>    0.012</td>\n",
       "</tr>\n",
       "<tr>\n",
       "  <th>x3</th> <td>-7.932e-06</td> <td>  2.4e-05</td> <td>   -0.331</td> <td> 0.744</td> <td>-5.73e-05</td> <td> 4.14e-05</td>\n",
       "</tr>\n",
       "</table>\n",
       "<table class=\"simpletable\">\n",
       "<tr>\n",
       "  <th>Omnibus:</th>       <td>18.924</td> <th>  Durbin-Watson:     </th> <td>   0.308</td>\n",
       "</tr>\n",
       "<tr>\n",
       "  <th>Prob(Omnibus):</th> <td> 0.000</td> <th>  Jarque-Bera (JB):  </th> <td>  23.440</td>\n",
       "</tr>\n",
       "<tr>\n",
       "  <th>Skew:</th>          <td> 1.680</td> <th>  Prob(JB):          </th> <td>8.13e-06</td>\n",
       "</tr>\n",
       "<tr>\n",
       "  <th>Kurtosis:</th>      <td> 5.847</td> <th>  Cond. No.          </th> <td>1.33e+05</td>\n",
       "</tr>\n",
       "</table><br/><br/>Warnings:<br/>[1] Standard Errors assume that the covariance matrix of the errors is correctly specified.<br/>[2] The condition number is large, 1.33e+05. This might indicate that there are<br/>strong multicollinearity or other numerical problems."
      ],
      "text/plain": [
       "<class 'statsmodels.iolib.summary.Summary'>\n",
       "\"\"\"\n",
       "                            OLS Regression Results                            \n",
       "==============================================================================\n",
       "Dep. Variable:                      y   R-squared:                       0.969\n",
       "Model:                            OLS   Adj. R-squared:                  0.965\n",
       "Method:                 Least Squares   F-statistic:                     270.0\n",
       "Date:                Tue, 15 Feb 2022   Prob (F-statistic):           1.05e-19\n",
       "Time:                        20:01:32   Log-Likelihood:                -104.25\n",
       "No. Observations:                  29   AIC:                             214.5\n",
       "Df Residuals:                      26   BIC:                             218.6\n",
       "Df Model:                           3                                         \n",
       "Covariance Type:            nonrobust                                         \n",
       "==============================================================================\n",
       "                 coef    std err          t      P>|t|      [0.025      0.975]\n",
       "------------------------------------------------------------------------------\n",
       "x1             0.4662      0.212      2.197      0.037       0.030       0.903\n",
       "x2             0.0022      0.005      0.472      0.641      -0.007       0.012\n",
       "x3         -7.932e-06    2.4e-05     -0.331      0.744   -5.73e-05    4.14e-05\n",
       "==============================================================================\n",
       "Omnibus:                       18.924   Durbin-Watson:                   0.308\n",
       "Prob(Omnibus):                  0.000   Jarque-Bera (JB):               23.440\n",
       "Skew:                           1.680   Prob(JB):                     8.13e-06\n",
       "Kurtosis:                       5.847   Cond. No.                     1.33e+05\n",
       "==============================================================================\n",
       "\n",
       "Warnings:\n",
       "[1] Standard Errors assume that the covariance matrix of the errors is correctly specified.\n",
       "[2] The condition number is large, 1.33e+05. This might indicate that there are\n",
       "strong multicollinearity or other numerical problems.\n",
       "\"\"\""
      ]
     },
     "execution_count": 10,
     "metadata": {},
     "output_type": "execute_result"
    }
   ],
   "source": [
    "# Fitting Polynomial Regression degree 3 to the dataset\n",
    "\n",
    "poly_features1 = PolynomialFeatures(degree = 3, include_bias = False)\n",
    "x_poly1 = poly_features1.fit_transform(x1)\n",
    "lin_reg1 = LinearRegression()\n",
    "lin_reg1.fit(x_poly1, y)\n",
    "print('Coefficients of x are', lin_reg1.coef_)\n",
    "print('Intercept is', lin_reg1.intercept_)\n",
    "\n",
    "\n",
    "model1 = sm.OLS(y, x_poly1).fit()\n",
    "ypred1 = model1.predict(x_poly1)\n",
    "model1.summary()\n",
    "\n"
   ]
  },
  {
   "cell_type": "code",
   "execution_count": 11,
   "metadata": {},
   "outputs": [
    {
     "name": "stdout",
     "output_type": "stream",
     "text": [
      "MSE of Polyregression model  9.675209586637523\n",
      "R2 score of Linear model:  0.9831444221333899\n"
     ]
    }
   ],
   "source": [
    "#Calculate the performance of the model obtained by Polynomial Regression degree 3.\n",
    "y_deg3 = lin_reg1.predict(x_poly1)\n",
    "# model evaluation\n",
    "mse_deg3 = mean_squared_error(y, y_deg3)\n",
    "\n",
    "r2_deg3 = r2_score(y, y_deg3)\n",
    "\n",
    "# printing values\n",
    "\n",
    "print('MSE of Polyregression model ', mse_deg3)\n",
    "\n",
    "print('R2 score of Linear model: ', r2_deg3)\n",
    "\n"
   ]
  },
  {
   "cell_type": "code",
   "execution_count": 12,
   "metadata": {},
   "outputs": [
    {
     "name": "stdout",
     "output_type": "stream",
     "text": [
      "[103.16185515]\n"
     ]
    }
   ],
   "source": [
    "a=np.array(150)\n",
    "x_new = a.reshape(1, 1)\n",
    "x_new_poly = poly_features.transform(x_new)\n",
    "y_new = lin_reg.predict(x_new_poly)\n",
    "print(y_new)"
   ]
  },
  {
   "cell_type": "code",
   "execution_count": 13,
   "metadata": {},
   "outputs": [
    {
     "data": {
      "image/png": "[encoded data removed]",
      "text/plain": [
       "<Figure size 432x288 with 1 Axes>"
      ]
     },
     "metadata": {
      "needs_background": "light"
     },
     "output_type": "display_data"
    }
   ],
   "source": [
    "# Visualising the Polynomial Regression results of degree 3\n",
    "plt.scatter(x1, y, color = 'blue')\n",
    "\n",
    "plt.plot(x1, y_deg3, color = 'red')\n",
    "plt.title('Polynomial Regression degree 3')\n",
    "plt.xlabel('newYear')\n",
    "plt.ylabel('Ratios')\n",
    "\n",
    "plt.show()"
   ]
  },
  {
   "cell_type": "code",
   "execution_count": 14,
   "metadata": {},
   "outputs": [
    {
     "name": "stdout",
     "output_type": "stream",
     "text": [
      "Coefficients of x are [-1.35392320e+00  3.33723088e-02 -2.05256374e-04  3.91241701e-07]\n",
      "Intercept is 30.84271001726353\n"
     ]
    },
    {
     "data": {
      "text/html": [
       "<table class=\"simpletable\">\n",
       "<caption>OLS Regression Results</caption>\n",
       "<tr>\n",
       "  <th>Dep. Variable:</th>            <td>y</td>        <th>  R-squared:         </th> <td>   0.974</td>\n",
       "</tr>\n",
       "<tr>\n",
       "  <th>Model:</th>                   <td>OLS</td>       <th>  Adj. R-squared:    </th> <td>   0.970</td>\n",
       "</tr>\n",
       "<tr>\n",
       "  <th>Method:</th>             <td>Least Squares</td>  <th>  F-statistic:       </th> <td>   233.7</td>\n",
       "</tr>\n",
       "<tr>\n",
       "  <th>Date:</th>             <td>Tue, 15 Feb 2022</td> <th>  Prob (F-statistic):</th> <td>2.08e-19</td>\n",
       "</tr>\n",
       "<tr>\n",
       "  <th>Time:</th>                 <td>20:01:32</td>     <th>  Log-Likelihood:    </th> <td> -101.68</td>\n",
       "</tr>\n",
       "<tr>\n",
       "  <th>No. Observations:</th>      <td>    29</td>      <th>  AIC:               </th> <td>   211.4</td>\n",
       "</tr>\n",
       "<tr>\n",
       "  <th>Df Residuals:</th>          <td>    25</td>      <th>  BIC:               </th> <td>   216.8</td>\n",
       "</tr>\n",
       "<tr>\n",
       "  <th>Df Model:</th>              <td>     4</td>      <th>                     </th>     <td> </td>   \n",
       "</tr>\n",
       "<tr>\n",
       "  <th>Covariance Type:</th>      <td>nonrobust</td>    <th>                     </th>     <td> </td>   \n",
       "</tr>\n",
       "</table>\n",
       "<table class=\"simpletable\">\n",
       "<tr>\n",
       "   <td></td>     <th>coef</th>     <th>std err</th>      <th>t</th>      <th>P>|t|</th>  <th>[0.025</th>    <th>0.975]</th>  \n",
       "</tr>\n",
       "<tr>\n",
       "  <th>x1</th> <td>    1.2231</td> <td>    0.397</td> <td>    3.082</td> <td> 0.005</td> <td>    0.406</td> <td>    2.040</td>\n",
       "</tr>\n",
       "<tr>\n",
       "  <th>x2</th> <td>   -0.0297</td> <td>    0.015</td> <td>   -1.966</td> <td> 0.061</td> <td>   -0.061</td> <td>    0.001</td>\n",
       "</tr>\n",
       "<tr>\n",
       "  <th>x3</th> <td>    0.0004</td> <td>    0.000</td> <td>    2.140</td> <td> 0.042</td> <td> 1.45e-05</td> <td>    0.001</td>\n",
       "</tr>\n",
       "<tr>\n",
       "  <th>x4</th> <td>-1.472e-06</td> <td> 6.69e-07</td> <td>   -2.201</td> <td> 0.037</td> <td>-2.85e-06</td> <td>-9.48e-08</td>\n",
       "</tr>\n",
       "</table>\n",
       "<table class=\"simpletable\">\n",
       "<tr>\n",
       "  <th>Omnibus:</th>       <td>24.685</td> <th>  Durbin-Watson:     </th> <td>   0.426</td>\n",
       "</tr>\n",
       "<tr>\n",
       "  <th>Prob(Omnibus):</th> <td> 0.000</td> <th>  Jarque-Bera (JB):  </th> <td>  39.564</td>\n",
       "</tr>\n",
       "<tr>\n",
       "  <th>Skew:</th>          <td> 1.992</td> <th>  Prob(JB):          </th> <td>2.56e-09</td>\n",
       "</tr>\n",
       "<tr>\n",
       "  <th>Kurtosis:</th>      <td> 7.107</td> <th>  Cond. No.          </th> <td>3.35e+07</td>\n",
       "</tr>\n",
       "</table><br/><br/>Warnings:<br/>[1] Standard Errors assume that the covariance matrix of the errors is correctly specified.<br/>[2] The condition number is large, 3.35e+07. This might indicate that there are<br/>strong multicollinearity or other numerical problems."
      ],
      "text/plain": [
       "<class 'statsmodels.iolib.summary.Summary'>\n",
       "\"\"\"\n",
       "                            OLS Regression Results                            \n",
       "==============================================================================\n",
       "Dep. Variable:                      y   R-squared:                       0.974\n",
       "Model:                            OLS   Adj. R-squared:                  0.970\n",
       "Method:                 Least Squares   F-statistic:                     233.7\n",
       "Date:                Tue, 15 Feb 2022   Prob (F-statistic):           2.08e-19\n",
       "Time:                        20:01:32   Log-Likelihood:                -101.68\n",
       "No. Observations:                  29   AIC:                             211.4\n",
       "Df Residuals:                      25   BIC:                             216.8\n",
       "Df Model:                           4                                         \n",
       "Covariance Type:            nonrobust                                         \n",
       "==============================================================================\n",
       "                 coef    std err          t      P>|t|      [0.025      0.975]\n",
       "------------------------------------------------------------------------------\n",
       "x1             1.2231      0.397      3.082      0.005       0.406       2.040\n",
       "x2            -0.0297      0.015     -1.966      0.061      -0.061       0.001\n",
       "x3             0.0004      0.000      2.140      0.042    1.45e-05       0.001\n",
       "x4         -1.472e-06   6.69e-07     -2.201      0.037   -2.85e-06   -9.48e-08\n",
       "==============================================================================\n",
       "Omnibus:                       24.685   Durbin-Watson:                   0.426\n",
       "Prob(Omnibus):                  0.000   Jarque-Bera (JB):               39.564\n",
       "Skew:                           1.992   Prob(JB):                     2.56e-09\n",
       "Kurtosis:                       7.107   Cond. No.                     3.35e+07\n",
       "==============================================================================\n",
       "\n",
       "Warnings:\n",
       "[1] Standard Errors assume that the covariance matrix of the errors is correctly specified.\n",
       "[2] The condition number is large, 3.35e+07. This might indicate that there are\n",
       "strong multicollinearity or other numerical problems.\n",
       "\"\"\""
      ]
     },
     "execution_count": 14,
     "metadata": {},
     "output_type": "execute_result"
    }
   ],
   "source": [
    "# Fitting Polynomial Regression degree 4 to the dataset\n",
    "\n",
    "poly_features2 = PolynomialFeatures(degree = 4, include_bias = False)\n",
    "x_poly2 = poly_features2.fit_transform(x1)\n",
    "lin_reg2 = LinearRegression()\n",
    "lin_reg2.fit(x_poly2, y)\n",
    "print('Coefficients of x are', lin_reg2.coef_)\n",
    "print('Intercept is', lin_reg2.intercept_)\n",
    "\n",
    "model2 = sm.OLS(y, x_poly2).fit()\n",
    "ypred2 = model2.predict(x_poly2)\n",
    "model2.summary()\n",
    "\n",
    "\n"
   ]
  },
  {
   "cell_type": "code",
   "execution_count": 15,
   "metadata": {},
   "outputs": [
    {
     "name": "stdout",
     "output_type": "stream",
     "text": [
      "MSE of Polyregression model  9.020884244168501\n",
      "R2 score of Linear model:  0.9842843490426029\n"
     ]
    }
   ],
   "source": [
    "#Calculate the performance of the model obtained by Polynomial Regression degree 4.\n",
    "y_deg4 = lin_reg2.predict(x_poly2)\n",
    "# model evaluation\n",
    "mse_deg4 = mean_squared_error(y, y_deg4)\n",
    "\n",
    "r2_deg4 = r2_score(y, y_deg4)\n",
    "\n",
    "# printing values\n",
    "\n",
    "print('MSE of Polyregression model ', mse_deg4)\n",
    "\n",
    "print('R2 score of Linear model: ', r2_deg4)\n",
    "\n",
    "\n"
   ]
  },
  {
   "cell_type": "code",
   "execution_count": 16,
   "metadata": {},
   "outputs": [
    {
     "data": {
      "image/png": "[encoded data removed]",
      "text/plain": [
       "<Figure size 432x288 with 1 Axes>"
      ]
     },
     "metadata": {
      "needs_background": "light"
     },
     "output_type": "display_data"
    }
   ],
   "source": [
    "# Visualising the Polynomial Regression results of degree 4\n",
    "plt.scatter(x1, y, color = 'blue')\n",
    "\n",
    "plt.plot(x1, y_deg4, color = 'red')\n",
    "plt.title('Polynomial Regression degree 4')\n",
    "plt.xlabel('newYear')\n",
    "plt.ylabel('Ratios')\n",
    "\n",
    "plt.show()"
   ]
  },
  {
   "cell_type": "code",
   "execution_count": 17,
   "metadata": {},
   "outputs": [
    {
     "name": "stdout",
     "output_type": "stream",
     "text": [
      "[103.16185515]\n"
     ]
    }
   ],
   "source": [
    "# predicting the gender ratio in 2020\n",
    "a=np.array(150)\n",
    "x_new = a.reshape(1, 1)\n",
    "x_new_poly = poly_features.transform(x_new)\n",
    "y_new = lin_reg.predict(x_new_poly)\n",
    "print(y_new)"
   ]
  },
  {
   "cell_type": "code",
   "execution_count": 18,
   "metadata": {},
   "outputs": [
    {
     "name": "stdout",
     "output_type": "stream",
     "text": [
      "Coefficients of x are [-1.45025412e+00  3.85269537e-02 -3.05865572e-04  1.20620531e-06\n",
      " -2.32846746e-09]\n",
      "Intercept is 31.183248478653017\n"
     ]
    },
    {
     "data": {
      "text/html": [
       "<table class=\"simpletable\">\n",
       "<caption>OLS Regression Results</caption>\n",
       "<tr>\n",
       "  <th>Dep. Variable:</th>            <td>y</td>        <th>  R-squared:         </th> <td>   0.978</td>\n",
       "</tr>\n",
       "<tr>\n",
       "  <th>Model:</th>                   <td>OLS</td>       <th>  Adj. R-squared:    </th> <td>   0.973</td>\n",
       "</tr>\n",
       "<tr>\n",
       "  <th>Method:</th>             <td>Least Squares</td>  <th>  F-statistic:       </th> <td>   210.8</td>\n",
       "</tr>\n",
       "<tr>\n",
       "  <th>Date:</th>             <td>Tue, 15 Feb 2022</td> <th>  Prob (F-statistic):</th> <td>5.22e-19</td>\n",
       "</tr>\n",
       "<tr>\n",
       "  <th>Time:</th>                 <td>20:01:33</td>     <th>  Log-Likelihood:    </th> <td> -99.405</td>\n",
       "</tr>\n",
       "<tr>\n",
       "  <th>No. Observations:</th>      <td>    29</td>      <th>  AIC:               </th> <td>   208.8</td>\n",
       "</tr>\n",
       "<tr>\n",
       "  <th>Df Residuals:</th>          <td>    24</td>      <th>  BIC:               </th> <td>   215.6</td>\n",
       "</tr>\n",
       "<tr>\n",
       "  <th>Df Model:</th>              <td>     5</td>      <th>                     </th>     <td> </td>   \n",
       "</tr>\n",
       "<tr>\n",
       "  <th>Covariance Type:</th>      <td>nonrobust</td>    <th>                     </th>     <td> </td>   \n",
       "</tr>\n",
       "</table>\n",
       "<table class=\"simpletable\">\n",
       "<tr>\n",
       "   <td></td>     <th>coef</th>     <th>std err</th>      <th>t</th>      <th>P>|t|</th>  <th>[0.025</th>    <th>0.975]</th>  \n",
       "</tr>\n",
       "<tr>\n",
       "  <th>x1</th> <td>    2.3119</td> <td>    0.657</td> <td>    3.521</td> <td> 0.002</td> <td>    0.957</td> <td>    3.667</td>\n",
       "</tr>\n",
       "<tr>\n",
       "  <th>x2</th> <td>   -0.1013</td> <td>    0.038</td> <td>   -2.651</td> <td> 0.014</td> <td>   -0.180</td> <td>   -0.022</td>\n",
       "</tr>\n",
       "<tr>\n",
       "  <th>x3</th> <td>    0.0019</td> <td>    0.001</td> <td>    2.471</td> <td> 0.021</td> <td>    0.000</td> <td>    0.003</td>\n",
       "</tr>\n",
       "<tr>\n",
       "  <th>x4</th> <td>-1.422e-05</td> <td> 6.34e-06</td> <td>   -2.241</td> <td> 0.035</td> <td>-2.73e-05</td> <td>-1.12e-06</td>\n",
       "</tr>\n",
       "<tr>\n",
       "  <th>x5</th> <td> 3.735e-08</td> <td> 1.85e-08</td> <td>    2.019</td> <td> 0.055</td> <td>-8.33e-10</td> <td> 7.55e-08</td>\n",
       "</tr>\n",
       "</table>\n",
       "<table class=\"simpletable\">\n",
       "<tr>\n",
       "  <th>Omnibus:</th>       <td>30.683</td> <th>  Durbin-Watson:     </th> <td>   0.528</td>\n",
       "</tr>\n",
       "<tr>\n",
       "  <th>Prob(Omnibus):</th> <td> 0.000</td> <th>  Jarque-Bera (JB):  </th> <td>  66.629</td>\n",
       "</tr>\n",
       "<tr>\n",
       "  <th>Skew:</th>          <td> 2.287</td> <th>  Prob(JB):          </th> <td>3.40e-15</td>\n",
       "</tr>\n",
       "<tr>\n",
       "  <th>Kurtosis:</th>      <td> 8.851</td> <th>  Cond. No.          </th> <td>7.57e+09</td>\n",
       "</tr>\n",
       "</table><br/><br/>Warnings:<br/>[1] Standard Errors assume that the covariance matrix of the errors is correctly specified.<br/>[2] The condition number is large, 7.57e+09. This might indicate that there are<br/>strong multicollinearity or other numerical problems."
      ],
      "text/plain": [
       "<class 'statsmodels.iolib.summary.Summary'>\n",
       "\"\"\"\n",
       "                            OLS Regression Results                            \n",
       "==============================================================================\n",
       "Dep. Variable:                      y   R-squared:                       0.978\n",
       "Model:                            OLS   Adj. R-squared:                  0.973\n",
       "Method:                 Least Squares   F-statistic:                     210.8\n",
       "Date:                Tue, 15 Feb 2022   Prob (F-statistic):           5.22e-19\n",
       "Time:                        20:01:33   Log-Likelihood:                -99.405\n",
       "No. Observations:                  29   AIC:                             208.8\n",
       "Df Residuals:                      24   BIC:                             215.6\n",
       "Df Model:                           5                                         \n",
       "Covariance Type:            nonrobust                                         \n",
       "==============================================================================\n",
       "                 coef    std err          t      P>|t|      [0.025      0.975]\n",
       "------------------------------------------------------------------------------\n",
       "x1             2.3119      0.657      3.521      0.002       0.957       3.667\n",
       "x2            -0.1013      0.038     -2.651      0.014      -0.180      -0.022\n",
       "x3             0.0019      0.001      2.471      0.021       0.000       0.003\n",
       "x4         -1.422e-05   6.34e-06     -2.241      0.035   -2.73e-05   -1.12e-06\n",
       "x5          3.735e-08   1.85e-08      2.019      0.055   -8.33e-10    7.55e-08\n",
       "==============================================================================\n",
       "Omnibus:                       30.683   Durbin-Watson:                   0.528\n",
       "Prob(Omnibus):                  0.000   Jarque-Bera (JB):               66.629\n",
       "Skew:                           2.287   Prob(JB):                     3.40e-15\n",
       "Kurtosis:                       8.851   Cond. No.                     7.57e+09\n",
       "==============================================================================\n",
       "\n",
       "Warnings:\n",
       "[1] Standard Errors assume that the covariance matrix of the errors is correctly specified.\n",
       "[2] The condition number is large, 7.57e+09. This might indicate that there are\n",
       "strong multicollinearity or other numerical problems.\n",
       "\"\"\""
      ]
     },
     "execution_count": 18,
     "metadata": {},
     "output_type": "execute_result"
    }
   ],
   "source": [
    "# Fitting Polynomial Regression degree 5 to the dataset\n",
    "\n",
    "poly_features3 = PolynomialFeatures(degree = 5, include_bias = False)\n",
    "x_poly3 = poly_features3.fit_transform(x1)\n",
    "lin_reg3 = LinearRegression()\n",
    "lin_reg3.fit(x_poly3, y)\n",
    "print('Coefficients of x are', lin_reg3.coef_)\n",
    "print('Intercept is', lin_reg3.intercept_)\n",
    "\n",
    "model3 = sm.OLS(y, x_poly3).fit()\n",
    "ypred3 = model3.predict(x_poly3)\n",
    "model3.summary()\n"
   ]
  },
  {
   "cell_type": "code",
   "execution_count": 19,
   "metadata": {},
   "outputs": [
    {
     "name": "stdout",
     "output_type": "stream",
     "text": [
      "MSE of Polyregression model  8.991035999137974\n",
      "R2 score of Linear model:  0.9843363488896127\n"
     ]
    }
   ],
   "source": [
    "#Calculate the performance of the model obtained by Polynomial Regression degree 5.\n",
    "y_deg5 = lin_reg3.predict(x_poly3)\n",
    "# model evaluation\n",
    "mse_deg5 = mean_squared_error(y, y_deg5)\n",
    "\n",
    "r2_deg5 = r2_score(y, y_deg5)\n",
    "\n",
    "# printing values\n",
    "\n",
    "print('MSE of Polyregression model ', mse_deg5)\n",
    "\n",
    "print('R2 score of Linear model: ', r2_deg5)\n",
    "\n",
    "\n",
    "\n",
    "\n"
   ]
  },
  {
   "cell_type": "code",
   "execution_count": 20,
   "metadata": {},
   "outputs": [
    {
     "data": {
      "image/png": "[encoded data removed]",
      "text/plain": [
       "<Figure size 432x288 with 1 Axes>"
      ]
     },
     "metadata": {
      "needs_background": "light"
     },
     "output_type": "display_data"
    }
   ],
   "source": [
    "# Visualising the Polynomial Regression results of degree 5\n",
    "plt.scatter(x1, y, color = 'blue')\n",
    "\n",
    "plt.plot(x1, y_deg5, color = 'red')\n",
    "plt.title('Polynomial Regression degree 5')\n",
    "plt.xlabel('newYear')\n",
    "plt.ylabel('Ratios')\n",
    "\n",
    "plt.show()"
   ]
  },
  {
   "cell_type": "code",
   "execution_count": 21,
   "metadata": {},
   "outputs": [
    {
     "name": "stdout",
     "output_type": "stream",
     "text": [
      "[103.16185515]\n"
     ]
    }
   ],
   "source": [
    "#As we see polynomial linear regression R^2 value and MSE is the best model , we try to predict the ratio for 2010 from this model\n",
    "\n",
    "a=np.array(150)\n",
    "x_new = a.reshape(1, 1)\n",
    "x_new_poly = poly_features.transform(x_new)\n",
    "y_new = lin_reg.predict(x_new_poly)\n",
    "print(y_new)"
   ]
  },
  {
   "cell_type": "code",
   "execution_count": null,
   "metadata": {},
   "outputs": [],
   "source": []
  }
 ],
 "metadata": {
  "kernelspec": {
   "display_name": "Python 3",
   "language": "python",
   "name": "python3"
  },
  "language_info": {
   "codemirror_mode": {
    "name": "ipython",
    "version": 3
   },
   "file_extension": ".py",
   "mimetype": "text/x-python",
   "name": "python",
   "nbconvert_exporter": "python",
   "pygments_lexer": "ipython3",
   "version": "3.7.1"
  }
 },
 "nbformat": 4,
 "nbformat_minor": 2
}
